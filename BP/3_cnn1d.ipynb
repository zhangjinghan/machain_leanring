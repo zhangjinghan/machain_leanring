{
 "cells": [
  {
   "cell_type": "code",
   "execution_count": 9,
   "metadata": {},
   "outputs": [],
   "source": [
    "import numpy as np\n",
    "from keras.models import Model\n",
    "from keras import layers\n",
    "from keras import Input\n",
    "import matplotlib.pyplot as plt\n",
    "from keras.callbacks import EarlyStopping\n",
    "#from sklearn.preprocessing import normalize"
   ]
  },
  {
   "cell_type": "code",
   "execution_count": 10,
   "metadata": {},
   "outputs": [],
   "source": [
    "import pandas as pd\n",
    "train_set= pd.read_csv(\"software_train_set.csv\")\n",
    "test_set = pd.read_csv(\"software_test_set.csv\")"
   ]
  },
  {
   "cell_type": "code",
   "execution_count": 11,
   "metadata": {},
   "outputs": [],
   "source": [
    "train_data = train_set.iloc[:,1:].values\n",
    "train_label = train_set.iloc[:,0].values\n",
    "\n",
    "test_data = test_set.iloc[:,1:].values\n",
    "test_label = test_set.iloc[:,0].values"
   ]
  },
  {
   "cell_type": "code",
   "execution_count": 12,
   "metadata": {},
   "outputs": [
    {
     "name": "stdout",
     "output_type": "stream",
     "text": [
      "(1508190, 25)\n",
      "(1508190,)\n",
      "(377047, 25)\n",
      "(377047,)\n"
     ]
    }
   ],
   "source": [
    "from sklearn import preprocessing\n",
    "min_max_scaler = preprocessing.MinMaxScaler(feature_range=(0, 1))\n",
    "train_data = min_max_scaler.fit_transform(train_data)\n",
    "test_data = min_max_scaler.fit_transform(test_data)\n",
    "\n",
    "print(train_data.shape)\n",
    "print(train_label.shape)\n",
    "print(test_data.shape)\n",
    "print(test_label.shape)"
   ]
  },
  {
   "cell_type": "code",
   "execution_count": 15,
   "metadata": {},
   "outputs": [],
   "source": [
    "import tensorflow as tf\n",
    "#tf.__version__\n",
    "from keras.models import Sequential\n",
    "from keras.layers import Dense,Dropout\n",
    "from keras.layers import Conv1D,GlobalAveragePooling1D,MaxPooling1D\n",
    "import keras.metrics\n",
    "from sklearn.model_selection import train_test_split\n",
    "import numpy as np\n",
    "import pandas as pd\n",
    "from sklearn.preprocessing import Normalizer\n",
    "import matplotlib.pyplot as plt\n",
    "from sklearn.metrics import classification_report\n",
    "from sklearn.metrics import accuracy_score\n",
    "from sklearn.metrics import recall_score\n",
    "from sklearn.metrics import precision_score\n",
    "from sklearn.metrics import f1_score\n",
    "\n",
    "cnn_1D=Sequential()\n",
    "cnn_1D.add(Conv1D(25,1,activation='relu',input_shape=(25,1)))\n",
    "cnn_1D.add(Conv1D(25,1,activation='relu'))\n",
    "cnn_1D.add(MaxPooling1D(3))\n",
    "cnn_1D.add(Conv1D(25,1,activation='relu'))\n",
    "cnn_1D.add(Conv1D(25,1,activation='relu'))\n",
    "cnn_1D.add(GlobalAveragePooling1D())\n",
    "cnn_1D.add(Dropout(0.5))\n",
    "cnn_1D.add(Dense(11,activation='softmax'))\n",
    "cnn_1D.compile(loss='categorical_crossentropy',optimizer='rmsprop',metrics=(['accuracy']))"
   ]
  },
  {
   "cell_type": "code",
   "execution_count": 16,
   "metadata": {},
   "outputs": [
    {
     "name": "stdout",
     "output_type": "stream",
     "text": [
      "Epoch 1/50\n",
      "15082/15082 [==============================] - 54s 4ms/step - loss: 1.7619 - accuracy: 0.4094 - val_loss: 1.6917 - val_accuracy: 0.4277\n",
      "Epoch 2/50\n",
      "15082/15082 [==============================] - 54s 4ms/step - loss: 1.6523 - accuracy: 0.4337 - val_loss: 1.6564 - val_accuracy: 0.4487\n",
      "Epoch 3/50\n",
      "15082/15082 [==============================] - 53s 4ms/step - loss: 1.6228 - accuracy: 0.4418 - val_loss: 1.6566 - val_accuracy: 0.4497\n",
      "Epoch 4/50\n",
      "15082/15082 [==============================] - 53s 4ms/step - loss: 1.6149 - accuracy: 0.4440 - val_loss: 1.7108 - val_accuracy: 0.3750\n",
      "Epoch 5/50\n",
      "15082/15082 [==============================] - 54s 4ms/step - loss: 1.6104 - accuracy: 0.4452 - val_loss: 1.6176 - val_accuracy: 0.4535\n",
      "Epoch 6/50\n",
      "15082/15082 [==============================] - 55s 4ms/step - loss: 1.6033 - accuracy: 0.4471 - val_loss: 1.6725 - val_accuracy: 0.4581\n",
      "Epoch 7/50\n",
      "15082/15082 [==============================] - 56s 4ms/step - loss: 1.5964 - accuracy: 0.4492 - val_loss: 1.5981 - val_accuracy: 0.4591\n",
      "Epoch 8/50\n",
      "15082/15082 [==============================] - 56s 4ms/step - loss: 1.5934 - accuracy: 0.4499 - val_loss: 1.6688 - val_accuracy: 0.3891\n",
      "Epoch 9/50\n",
      "15082/15082 [==============================] - 52s 3ms/step - loss: 1.5921 - accuracy: 0.4507 - val_loss: 1.6776 - val_accuracy: 0.4001\n",
      "Epoch 10/50\n",
      "15082/15082 [==============================] - 49s 3ms/step - loss: 1.5941 - accuracy: 0.4501 - val_loss: 1.7076 - val_accuracy: 0.3831\n"
     ]
    }
   ],
   "source": [
    "history = cnn_1D.fit(train_data, train_label, \n",
    " epochs=50, batch_size=100,\n",
    " validation_data=[test_data,test_label],validation_freq=1,\n",
    " callbacks=[EarlyStopping(monitor='val_loss', patience=3, min_delta=0.0001)])"
   ]
  }
 ],
 "metadata": {
  "kernelspec": {
   "display_name": "Python 3.9.12 ('tf')",
   "language": "python",
   "name": "python3"
  },
  "language_info": {
   "codemirror_mode": {
    "name": "ipython",
    "version": 3
   },
   "file_extension": ".py",
   "mimetype": "text/x-python",
   "name": "python",
   "nbconvert_exporter": "python",
   "pygments_lexer": "ipython3",
   "version": "3.9.12"
  },
  "orig_nbformat": 4,
  "vscode": {
   "interpreter": {
    "hash": "78ddfc3686b8b7161f2836984651df038ec9a0366954334fc42499f59ad2b3c8"
   }
  }
 },
 "nbformat": 4,
 "nbformat_minor": 2
}
