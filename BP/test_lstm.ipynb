{
 "cells": [
  {
   "cell_type": "code",
   "execution_count": 3,
   "metadata": {},
   "outputs": [
    {
     "ename": "AttributeError",
     "evalue": "module 'keras.preprocessing.sequence' has no attribute 'pad_sequences'",
     "output_type": "error",
     "traceback": [
      "\u001b[1;31m---------------------------------------------------------------------------\u001b[0m",
      "\u001b[1;31mAttributeError\u001b[0m                            Traceback (most recent call last)",
      "\u001b[1;32md:\\SCU\\work\\2022.6.8-flow classfication\\git_clone\\machain_leanring\\BP\\test_lstm.ipynb Cell 1'\u001b[0m in \u001b[0;36m<cell line: 11>\u001b[1;34m()\u001b[0m\n\u001b[0;32m      <a href='vscode-notebook-cell:/d%3A/SCU/work/2022.6.8-flow%20classfication/git_clone/machain_leanring/BP/test_lstm.ipynb#ch0000000?line=7'>8</a>\u001b[0m maxlen \u001b[39m=\u001b[39m \u001b[39m20\u001b[39m \n\u001b[0;32m      <a href='vscode-notebook-cell:/d%3A/SCU/work/2022.6.8-flow%20classfication/git_clone/machain_leanring/BP/test_lstm.ipynb#ch0000000?line=8'>9</a>\u001b[0m (x_train, y_train), (x_test, y_test) \u001b[39m=\u001b[39m imdb\u001b[39m.\u001b[39mload_data(\n\u001b[0;32m     <a href='vscode-notebook-cell:/d%3A/SCU/work/2022.6.8-flow%20classfication/git_clone/machain_leanring/BP/test_lstm.ipynb#ch0000000?line=9'>10</a>\u001b[0m  num_words\u001b[39m=\u001b[39mmax_features) \n\u001b[1;32m---> <a href='vscode-notebook-cell:/d%3A/SCU/work/2022.6.8-flow%20classfication/git_clone/machain_leanring/BP/test_lstm.ipynb#ch0000000?line=10'>11</a>\u001b[0m x_train \u001b[39m=\u001b[39m sequence\u001b[39m.\u001b[39;49mpad_sequences(x_train, maxlen\u001b[39m=\u001b[39mmaxlen) \n\u001b[0;32m     <a href='vscode-notebook-cell:/d%3A/SCU/work/2022.6.8-flow%20classfication/git_clone/machain_leanring/BP/test_lstm.ipynb#ch0000000?line=11'>12</a>\u001b[0m x_test \u001b[39m=\u001b[39m sequence\u001b[39m.\u001b[39mpad_sequences(x_test, maxlen\u001b[39m=\u001b[39mmaxlen)\n",
      "\u001b[1;31mAttributeError\u001b[0m: module 'keras.preprocessing.sequence' has no attribute 'pad_sequences'"
     ]
    }
   ],
   "source": [
    "from keras.datasets import imdb\n",
    "from keras.layers import preprocessing \n",
    "from keras.models import Sequential \n",
    "from keras.preprocessing import sequence\n",
    "from keras.layers import Flatten, Dense, Embedding\n",
    "\n",
    "max_features = 10000 \n",
    "maxlen = 20 \n",
    "(x_train, y_train), (x_test, y_test) = imdb.load_data(num_words=max_features) \n",
    "x_train = sequence.pad_sequences(x_train, maxlen=maxlen) \n",
    "x_test = sequence.pad_sequences(x_test, maxlen=maxlen)"
   ]
  },
  {
   "cell_type": "code",
   "execution_count": null,
   "metadata": {},
   "outputs": [],
   "source": [
    "model = Sequential()\n",
    "model.add(Embedding(10000, 8, input_length=maxlen)) \n",
    "model.add(Flatten()) \n",
    "model.add(Dense(1, activation='sigmoid')) \n",
    "model.compile(optimizer='rmsprop', loss='binary_crossentropy', metrics=['acc']) \n",
    "model.summary()\n",
    "history = model.fit(x_train, y_train, \n",
    " epochs=10,\n",
    " batch_size=32, \n",
    " validation_split=0.2)"
   ]
  }
 ],
 "metadata": {
  "kernelspec": {
   "display_name": "Python 3.9.12 ('tf')",
   "language": "python",
   "name": "python3"
  },
  "language_info": {
   "codemirror_mode": {
    "name": "ipython",
    "version": 3
   },
   "file_extension": ".py",
   "mimetype": "text/x-python",
   "name": "python",
   "nbconvert_exporter": "python",
   "pygments_lexer": "ipython3",
   "version": "3.9.12"
  },
  "orig_nbformat": 4,
  "vscode": {
   "interpreter": {
    "hash": "78ddfc3686b8b7161f2836984651df038ec9a0366954334fc42499f59ad2b3c8"
   }
  }
 },
 "nbformat": 4,
 "nbformat_minor": 2
}
