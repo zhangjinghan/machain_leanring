{
 "cells": [
  {
   "cell_type": "markdown",
   "metadata": {},
   "source": [
    "Test"
   ]
  },
  {
   "cell_type": "code",
   "execution_count": 1,
   "metadata": {},
   "outputs": [
    {
     "ename": "ModuleNotFoundError",
     "evalue": "No module named 'pandas'",
     "output_type": "error",
     "traceback": [
      "\u001b[1;31m---------------------------------------------------------------------------\u001b[0m",
      "\u001b[1;31mModuleNotFoundError\u001b[0m                       Traceback (most recent call last)",
      "\u001b[1;32md:\\SCU\\work\\2022.6.8-flow classfication\\BP\\老邢的demo.ipynb Cell 2'\u001b[0m in \u001b[0;36m<cell line: 1>\u001b[1;34m()\u001b[0m\n\u001b[1;32m----> <a href='vscode-notebook-cell:/d%3A/SCU/work/2022.6.8-flow%20classfication/BP/%E8%80%81%E9%82%A2%E7%9A%84demo.ipynb#ch0000001?line=0'>1</a>\u001b[0m \u001b[39mimport\u001b[39;00m \u001b[39mpandas\u001b[39;00m \u001b[39mas\u001b[39;00m \u001b[39mpd\u001b[39;00m\n\u001b[0;32m      <a href='vscode-notebook-cell:/d%3A/SCU/work/2022.6.8-flow%20classfication/BP/%E8%80%81%E9%82%A2%E7%9A%84demo.ipynb#ch0000001?line=1'>2</a>\u001b[0m dataframe \u001b[39m=\u001b[39m pd\u001b[39m.\u001b[39mread_csv(\u001b[39m\"\u001b[39m\u001b[39mtotal.csv\u001b[39m\u001b[39m\"\u001b[39m)\n\u001b[0;32m      <a href='vscode-notebook-cell:/d%3A/SCU/work/2022.6.8-flow%20classfication/BP/%E8%80%81%E9%82%A2%E7%9A%84demo.ipynb#ch0000001?line=2'>3</a>\u001b[0m \u001b[39m#print(dataframe.shape)\u001b[39;00m\n",
      "\u001b[1;31mModuleNotFoundError\u001b[0m: No module named 'pandas'"
     ]
    }
   ],
   "source": [
    "import pandas as pd\n",
    "dataframe = pd.read_csv(\"total.csv\")\n",
    "#print(dataframe.shape)\n",
    "print(dataframe.loc[:,[0]])"
   ]
  },
  {
   "cell_type": "code",
   "execution_count": 13,
   "metadata": {},
   "outputs": [
    {
     "name": "stdout",
     "output_type": "stream",
     "text": [
      "         label\n",
      "0            1\n",
      "1            1\n",
      "2            1\n",
      "3            1\n",
      "4            1\n",
      "...        ...\n",
      "1701028     23\n",
      "1701029     23\n",
      "1701030     23\n",
      "1701031     23\n",
      "1701032     23\n",
      "\n",
      "[1701033 rows x 1 columns]\n"
     ]
    }
   ],
   "source": [
    "label = dataframe.loc[:,['label']]\n",
    "print(label)"
   ]
  },
  {
   "cell_type": "markdown",
   "metadata": {},
   "source": []
  },
  {
   "cell_type": "code",
   "execution_count": 26,
   "metadata": {},
   "outputs": [
    {
     "name": "stdout",
     "output_type": "stream",
     "text": [
      "(1360825, 105) (340208, 105)\n"
     ]
    }
   ],
   "source": [
    "# 行数\n",
    "\"\"\" len = dataframe.shape[0]\n",
    "print(len) \n",
    "index = []\n",
    "for i in range(len):\n",
    "    label = dataframe.loc[i,['label']] \"\"\"\n",
    "train_set=0\n",
    "test_set=0\n",
    "for i in range(1,24):\n",
    "    label1 = dataframe[dataframe['label']==i]\n",
    "    df1=label1.sample(frac=0.8,replace=False)\n",
    "    df2=label1[~label1.index.isin(df1.index)]\n",
    "    if type(train_set)==int:\n",
    "        train_set=df1\n",
    "    else:\n",
    "        train_set=pd.concat([train_set,df1])\n",
    "    if type(test_set)==int:\n",
    "        test_set=df2\n",
    "    else:\n",
    "        test_set=pd.concat([test_set,df2])\n"
   ]
  },
  {
   "cell_type": "code",
   "execution_count": null,
   "metadata": {},
   "outputs": [],
   "source": [
    "train_set.to_csv(r'F:/硕士/04 项目练习/02 数据流分析/svm-master/train_set.csv',index=False)\n",
    "test_set.to_csv(r'F:/硕士/04 项目练习/02 数据流分析/svm-master/test_set.csv',index=False)"
   ]
  }
 ],
 "metadata": {
  "kernelspec": {
   "display_name": "Python 3.9.12 ('tf')",
   "language": "python",
   "name": "python3"
  },
  "language_info": {
   "codemirror_mode": {
    "name": "ipython",
    "version": 3
   },
   "file_extension": ".py",
   "mimetype": "text/x-python",
   "name": "python",
   "nbconvert_exporter": "python",
   "pygments_lexer": "ipython3",
   "version": "3.9.12"
  },
  "orig_nbformat": 4,
  "vscode": {
   "interpreter": {
    "hash": "78ddfc3686b8b7161f2836984651df038ec9a0366954334fc42499f59ad2b3c8"
   }
  }
 },
 "nbformat": 4,
 "nbformat_minor": 2
}
