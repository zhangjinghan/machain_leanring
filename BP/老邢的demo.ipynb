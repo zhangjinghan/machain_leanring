{
 "cells": [
  {
   "cell_type": "markdown",
   "metadata": {},
   "source": [
    "Test"
   ]
  },
  {
   "cell_type": "code",
   "execution_count": 1,
   "metadata": {},
   "outputs": [
    {
     "name": "stdout",
     "output_type": "stream",
     "text": [
      "(3262107, 109)\n"
     ]
    }
   ],
   "source": [
    "import pandas as pd\n",
    "dataframe = pd.read_csv(\"05_total_get_dummy.csv\")\n",
    "print(dataframe.shape)\n",
    "# print(dataframe.loc[:,[0]])"
   ]
  },
  {
   "cell_type": "code",
   "execution_count": 2,
   "metadata": {},
   "outputs": [
    {
     "name": "stdout",
     "output_type": "stream",
     "text": [
      "(3262107,)\n"
     ]
    }
   ],
   "source": [
    "\n",
    "label = dataframe['label']\n",
    "print(label.shape)\n",
    "# print(dataframe[1,:])"
   ]
  },
  {
   "cell_type": "markdown",
   "metadata": {},
   "source": []
  },
  {
   "cell_type": "code",
   "execution_count": 3,
   "metadata": {},
   "outputs": [],
   "source": [
    "# 行数\n",
    "\"\"\" len = dataframe.shape[0]\n",
    "print(len) \n",
    "index = []\n",
    "for i in range(len):\n",
    "    label = dataframe.loc[i,['label']] \"\"\"\n",
    "train_set=0\n",
    "val_set=0\n",
    "test_set =0\n",
    "for i in range(0,23):\n",
    "    label1 = dataframe[dataframe['label']==i]\n",
    "    df1=label1.sample(frac=0.6,replace=False) # train\n",
    "    df2=label1[~label1.index.isin(df1.index)].sample(frac=0.5,replace=False) # val\n",
    "    df3=label1[(~label1.index.isin(df1.index) )& (~label1.index.isin(df2.index))]  # test\n",
    "    if type(train_set)==int:\n",
    "        train_set=df1\n",
    "    else:\n",
    "        train_set=pd.concat([train_set,df1])\n",
    "        \n",
    "    if type(val_set)==int:\n",
    "        val_set=df2\n",
    "    else:\n",
    "        val_set=pd.concat([test_set,df2])\n",
    "\n",
    "    if type(test_set)==int:\n",
    "        test_set=df3\n",
    "    else:\n",
    "        test_set=pd.concat([test_set,df3])"
   ]
  },
  {
   "cell_type": "code",
   "execution_count": 4,
   "metadata": {},
   "outputs": [],
   "source": [
    "train_set.to_csv(r'train_set.csv',index=False)\n",
    "val_set.to_csv(r'val_set.csv',index=False)\n",
    "test_set.to_csv(r'test_set.csv',index=False)\n"
   ]
  }
 ],
 "metadata": {
  "interpreter": {
   "hash": "78ddfc3686b8b7161f2836984651df038ec9a0366954334fc42499f59ad2b3c8"
  },
  "kernelspec": {
   "display_name": "Python 3.9.12 ('tf')",
   "language": "python",
   "name": "python3"
  },
  "language_info": {
   "codemirror_mode": {
    "name": "ipython",
    "version": 3
   },
   "file_extension": ".py",
   "mimetype": "text/x-python",
   "name": "python",
   "nbconvert_exporter": "python",
   "pygments_lexer": "ipython3",
   "version": "3.9.12"
  },
  "orig_nbformat": 4,
  "vscode": {
   "interpreter": {
    "hash": "78ddfc3686b8b7161f2836984651df038ec9a0366954334fc42499f59ad2b3c8"
   }
  }
 },
 "nbformat": 4,
 "nbformat_minor": 2
}
