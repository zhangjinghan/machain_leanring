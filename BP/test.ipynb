{
 "cells": [
  {
   "cell_type": "code",
   "execution_count": 1,
   "metadata": {},
   "outputs": [
    {
     "name": "stderr",
     "output_type": "stream",
     "text": [
      "d:\\Users\\17020\\miniconda3\\envs\\proto\\lib\\site-packages\\tqdm\\auto.py:22: TqdmWarning: IProgress not found. Please update jupyter and ipywidgets. See https://ipywidgets.readthedocs.io/en/stable/user_install.html\n",
      "  from .autonotebook import tqdm as notebook_tqdm\n"
     ]
    }
   ],
   "source": [
    "import torch\n",
    "import matplotlib.pyplot as plt\n",
    "import numpy as np\n",
    "import tqdm\n",
    "from torch.autograd import Variable\n",
    "from torch.nn import *\n",
    "from torch.optim import Adam\n"
   ]
  },
  {
   "cell_type": "code",
   "execution_count": 2,
   "metadata": {},
   "outputs": [],
   "source": [
    "# 超参数定义(由于我们的隐藏层只有一层，所以可以直接定义为超参数)\n",
    "batch_size=100\n",
    "input_feature=100\n",
    "hidden_feature=1000\n",
    "output_feature=10\n",
    "learning_rate=1e-6\n",
    "epochs=1000\n",
    "loss_f=MSELoss()\n"
   ]
  },
  {
   "cell_type": "code",
   "execution_count": 3,
   "metadata": {},
   "outputs": [],
   "source": [
    "# 参数初始化\n",
    "x=Variable(torch.randn(batch_size,input_feature),requires_grad=False)\n",
    "y=Variable(torch.randn(batch_size,output_feature),requires_grad=False)\n",
    "w1=Variable(torch.randn(input_feature,hidden_feature),requires_grad=True)\n",
    "w2=Variable(torch.randn(hidden_feature,output_feature),requires_grad=True)\n",
    "\n",
    "Epoch=[]\n",
    "Loss=[]\n",
    "model=Sequential(\n",
    "    Linear(input_feature,hidden_feature),\n",
    "    Linear(hidden_feature,output_feature)\n",
    ")"
   ]
  },
  {
   "cell_type": "code",
   "execution_count": 4,
   "metadata": {},
   "outputs": [
    {
     "name": "stdout",
     "output_type": "stream",
     "text": [
      "Sequential(\n",
      "  (0): Linear(in_features=100, out_features=1000, bias=True)\n",
      "  (1): Linear(in_features=1000, out_features=10, bias=True)\n",
      ")\n"
     ]
    }
   ],
   "source": [
    "# optimizer需要传入训练参数和lr\n",
    "optim=Adam(model.parameters(),lr=learning_rate)\n",
    "print(model)"
   ]
  },
  {
   "cell_type": "code",
   "execution_count": 5,
   "metadata": {},
   "outputs": [
    {
     "name": "stderr",
     "output_type": "stream",
     "text": [
      " 19%|█▉        | 191/1000 [00:00<00:01, 486.20it/s]"
     ]
    },
    {
     "name": "stdout",
     "output_type": "stream",
     "text": [
      "Epoch:50,loss:1.012779712677002\n",
      "Epoch:100,loss:1.003319263458252\n",
      "Epoch:150,loss:0.9939864873886108\n",
      "Epoch:200,loss:0.98477703332901\n"
     ]
    },
    {
     "name": "stderr",
     "output_type": "stream",
     "text": [
      " 34%|███▍      | 345/1000 [00:00<00:01, 624.93it/s]"
     ]
    },
    {
     "name": "stdout",
     "output_type": "stream",
     "text": [
      "Epoch:250,loss:0.9756873250007629\n",
      "Epoch:300,loss:0.9667142629623413\n",
      "Epoch:350,loss:0.9578547477722168\n",
      "Epoch:400,loss:0.9491060376167297\n"
     ]
    },
    {
     "name": "stderr",
     "output_type": "stream",
     "text": [
      " 60%|██████    | 601/1000 [00:01<00:00, 760.46it/s]"
     ]
    },
    {
     "name": "stdout",
     "output_type": "stream",
     "text": [
      "Epoch:450,loss:0.9404653310775757\n",
      "Epoch:500,loss:0.9319303035736084\n",
      "Epoch:550,loss:0.9234983921051025\n",
      "Epoch:600,loss:0.9151676297187805\n"
     ]
    },
    {
     "name": "stderr",
     "output_type": "stream",
     "text": [
      " 77%|███████▋  | 768/1000 [00:01<00:00, 715.33it/s]"
     ]
    },
    {
     "name": "stdout",
     "output_type": "stream",
     "text": [
      "Epoch:650,loss:0.906935453414917\n",
      "Epoch:700,loss:0.8988001942634583\n",
      "Epoch:750,loss:0.8907598853111267\n"
     ]
    },
    {
     "name": "stderr",
     "output_type": "stream",
     "text": [
      " 93%|█████████▎| 932/1000 [00:01<00:00, 762.32it/s]"
     ]
    },
    {
     "name": "stdout",
     "output_type": "stream",
     "text": [
      "Epoch:800,loss:0.8828123807907104\n",
      "Epoch:850,loss:0.874955952167511\n",
      "Epoch:900,loss:0.8671891689300537\n",
      "Epoch:950,loss:0.8595098853111267\n"
     ]
    },
    {
     "name": "stderr",
     "output_type": "stream",
     "text": [
      "100%|██████████| 1000/1000 [00:01<00:00, 629.70it/s]\n"
     ]
    },
    {
     "name": "stdout",
     "output_type": "stream",
     "text": [
      "Epoch:1000,loss:0.8519166111946106\n"
     ]
    },
    {
     "data": {
      "image/png": "[encoded data removed]",
      "text/plain": [
       "<Figure size 432x288 with 1 Axes>"
      ]
     },
     "metadata": {
      "needs_background": "light"
     },
     "output_type": "display_data"
    }
   ],
   "source": [
    "# 迭代训练\n",
    "for epoch in tqdm.tqdm(range(1,epochs+1)):\n",
    "    # 前向传播\n",
    "    y_pred=model(x)\n",
    "    loss=loss_f(y_pred,y)\n",
    "\n",
    "    Epoch.append(epoch)\n",
    "    Loss.append(loss.data)\n",
    "\n",
    "    if epoch%50==0:\n",
    "        print(\"Epoch:{},loss:{}\".format(epoch,loss))\n",
    "    optim.zero_grad()\n",
    "    # 后向传播\n",
    "    loss.backward()\n",
    "    # 参数微调\n",
    "    optim.step()\n",
    "    # for parm in model.parameters():\n",
    "    #     parm.data-=parm.grad.data*learning_rate   \n",
    "\n",
    "Epoch=np.array(Epoch)\n",
    "Loss=np.array(Loss)\n",
    "plt.plot(Epoch,Loss)\n",
    "plt.show()"
   ]
  }
 ],
 "metadata": {
  "interpreter": {
   "hash": "700df16ff072ff231e9563d413cf5000e57326d5383e3a689aad73bd99106d0a"
  },
  "kernelspec": {
   "display_name": "Python 3.10.4 ('proto')",
   "language": "python",
   "name": "python3"
  },
  "language_info": {
   "codemirror_mode": {
    "name": "ipython",
    "version": 3
   },
   "file_extension": ".py",
   "mimetype": "text/x-python",
   "name": "python",
   "nbconvert_exporter": "python",
   "pygments_lexer": "ipython3",
   "version": "3.10.4"
  },
  "orig_nbformat": 4
 },
 "nbformat": 4,
 "nbformat_minor": 2
}
